{
  "nbformat": 4,
  "nbformat_minor": 0,
  "metadata": {
    "colab": {
      "provenance": [],
      "authorship_tag": "ABX9TyPu1QnG+whCL4LoI6knzYiD",
      "include_colab_link": true
    },
    "kernelspec": {
      "name": "python3",
      "display_name": "Python 3"
    },
    "language_info": {
      "name": "python"
    }
  },
  "cells": [
    {
      "cell_type": "markdown",
      "metadata": {
        "id": "view-in-github",
        "colab_type": "text"
      },
      "source": [
        "<a href=\"https://colab.research.google.com/github/Ntelhon/Weather_Temp_Prediction_ANN/blob/master/ANN_MT1v1.ipynb\" target=\"_parent\"><img src=\"https://colab.research.google.com/assets/colab-badge.svg\" alt=\"Open In Colab\"/></a>"
      ]
    },
    {
      "cell_type": "code",
      "execution_count": 3,
      "metadata": {
        "id": "PeM1xTOfrffp"
      },
      "outputs": [],
      "source": [
        "import pandas as pd\n",
        "# import numpy as np # For numerical computations\n",
        "# import matplotlib.pyplot as plt # For visualization\n",
        "from sklearn.model_selection import train_test_split\n",
        "from sklearn.preprocessing import StandardScaler\n",
        "# from sklearn.linear_model import LinearRegression\n",
        "from sklearn.metrics import mean_squared_error\n",
        "import tensorflow as tf\n",
        "import keras\n",
        "from keras import layers"
      ]
    },
    {
      "cell_type": "code",
      "source": [
        "# Load the dataset\n",
        "data = pd.read_csv('train.csv')"
      ],
      "metadata": {
        "id": "o60KvCHlsWFJ"
      },
      "execution_count": 4,
      "outputs": []
    },
    {
      "cell_type": "code",
      "source": [
        "print(data.head)"
      ],
      "metadata": {
        "colab": {
          "base_uri": "https://localhost:8080/"
        },
        "collapsed": true,
        "id": "XtxrPcbmskPC",
        "outputId": "854fe14a-c51c-4bb7-c34b-2d64f31b132a"
      },
      "execution_count": 5,
      "outputs": [
        {
          "output_type": "stream",
          "name": "stdout",
          "text": [
            "<bound method NDFrame.head of               dt                 date    temp  feels_like  pressure  humidity  \\\n",
            "0     1704067200  2024-01-01 00:00:00  285.04      284.43      1019        82   \n",
            "1     1704070800  2024-01-01 01:00:00  284.32      283.76      1020        87   \n",
            "2     1704074400  2024-01-01 02:00:00  284.32      283.76      1019        87   \n",
            "3     1704078000  2024-01-01 03:00:00  284.32      283.63      1018        82   \n",
            "4     1704081600  2024-01-01 04:00:00  284.23      283.53      1018        82   \n",
            "...          ...                  ...     ...         ...       ...       ...   \n",
            "7315  1730401200  2024-10-31 19:00:00  287.81      287.19      1024        71   \n",
            "7316  1730404800  2024-10-31 20:00:00  286.74      286.14      1024        76   \n",
            "7317  1730408400  2024-10-31 21:00:00  286.00      285.46      1024        81   \n",
            "7318  1730412000  2024-10-31 22:00:00  286.00      285.35      1024        77   \n",
            "7319  1730415600  2024-10-31 23:00:00  286.00      285.35      1024        77   \n",
            "\n",
            "      temp_min  temp_max  wind_speed  wind_deg  clouds_all  weather_id  \\\n",
            "0       282.99    285.19        2.57       120          74         803   \n",
            "1       283.55    285.60        1.54        80         100         804   \n",
            "2       284.10    285.60        2.06        90         100         804   \n",
            "3       283.55    285.60        1.54        80           0         800   \n",
            "4       284.10    284.60        1.03         0           0         800   \n",
            "...        ...       ...         ...       ...         ...         ...   \n",
            "7315    286.60    288.19        5.14        30          40         802   \n",
            "7316    285.60    287.19        4.02        30          40         802   \n",
            "7317    285.60    286.19        3.09        60          40         802   \n",
            "7318    285.60    286.19        2.57        70          40         802   \n",
            "7319    283.60    286.19        2.57        30          40         802   \n",
            "\n",
            "     weather_main weather_description weather_icon  \n",
            "0          Clouds       broken clouds          04n  \n",
            "1          Clouds     overcast clouds          04n  \n",
            "2          Clouds     overcast clouds          04n  \n",
            "3           Clear           clear sky          01n  \n",
            "4           Clear           clear sky          01n  \n",
            "...           ...                 ...          ...  \n",
            "7315       Clouds    scattered clouds          03n  \n",
            "7316       Clouds    scattered clouds          03n  \n",
            "7317       Clouds    scattered clouds          03n  \n",
            "7318       Clouds    scattered clouds          03n  \n",
            "7319       Clouds    scattered clouds          03n  \n",
            "\n",
            "[7320 rows x 15 columns]>\n"
          ]
        }
      ]
    },
    {
      "cell_type": "code",
      "source": [
        "data = data.dropna()\n",
        "\n",
        "data[\"T1\"] = data[\"temp\"]\n",
        "data[\"T1\"] = data[\"T1\"].shift(periods=-1)\n",
        "data[\"delta_temp\"] = data[\"T1\"]-data[\"temp\"]\n",
        "data = data.drop([\"T1\"], axis=1)\n",
        "\n",
        "X = data[['temp', 'pressure', 'humidity', 'wind_speed']]  # Input features\n",
        "y = data['temp']  # Target variable (average temperature)"
      ],
      "metadata": {
        "id": "M0xQv1ihsvdT"
      },
      "execution_count": 6,
      "outputs": []
    },
    {
      "cell_type": "code",
      "source": [
        "X_train, X_test, y_train, y_test = train_test_split(X, y, test_size=0.1, random_state=42)\n",
        "\n",
        "# Standardize the input features\n",
        "scaler = StandardScaler()\n",
        "X_train_scaled = scaler.fit_transform(X_train)\n",
        "X_test_scaled = scaler.transform(X_test)"
      ],
      "metadata": {
        "id": "EIrmzpcLs0-l"
      },
      "execution_count": 7,
      "outputs": []
    },
    {
      "cell_type": "code",
      "source": [
        "# Build the neural network model\n",
        "model = keras.Sequential()\n",
        "model.add(layers.Dense(8, input_dim=4, activation='relu'))  # Adjust number of neurons if needed\n",
        "model.add(layers.Dense(4, activation='relu'))\n",
        "# model.add(layers.Dense(2, activation='relu'))\n",
        "model.add(layers.Dense(1, activation='linear')) # Output layer\n",
        "\n",
        "# Compile the model\n",
        "model.compile(optimizer='adam', loss='mean_squared_error')\n",
        "\n",
        "# Train the model\n",
        "model.fit(X_train_scaled, y_train, epochs=50, batch_size=32, validation_split=0.2, verbose=2)"
      ],
      "metadata": {
        "colab": {
          "base_uri": "https://localhost:8080/"
        },
        "id": "ikjBTjFss1If",
        "outputId": "f57604a9-c126-4b37-97c1-87a192441382"
      },
      "execution_count": 8,
      "outputs": [
        {
          "output_type": "stream",
          "name": "stderr",
          "text": [
            "/usr/local/lib/python3.10/dist-packages/keras/src/layers/core/dense.py:87: UserWarning: Do not pass an `input_shape`/`input_dim` argument to a layer. When using Sequential models, prefer using an `Input(shape)` object as the first layer in the model instead.\n",
            "  super().__init__(activity_regularizer=activity_regularizer, **kwargs)\n"
          ]
        },
        {
          "output_type": "stream",
          "name": "stdout",
          "text": [
            "Epoch 1/50\n",
            "165/165 - 5s - 28ms/step - loss: 84174.3672 - val_loss: 83302.6016\n",
            "Epoch 2/50\n",
            "165/165 - 0s - 2ms/step - loss: 81012.6172 - val_loss: 77997.7969\n",
            "Epoch 3/50\n",
            "165/165 - 1s - 4ms/step - loss: 72953.4609 - val_loss: 66795.3750\n",
            "Epoch 4/50\n",
            "165/165 - 0s - 2ms/step - loss: 58622.3359 - val_loss: 49693.4062\n",
            "Epoch 5/50\n",
            "165/165 - 1s - 4ms/step - loss: 40455.1094 - val_loss: 31507.5352\n",
            "Epoch 6/50\n",
            "165/165 - 1s - 4ms/step - loss: 24059.3926 - val_loss: 17700.0137\n",
            "Epoch 7/50\n",
            "165/165 - 0s - 2ms/step - loss: 13150.3223 - val_loss: 9680.7783\n",
            "Epoch 8/50\n",
            "165/165 - 1s - 4ms/step - loss: 7307.3950 - val_loss: 5716.1387\n",
            "Epoch 9/50\n",
            "165/165 - 0s - 2ms/step - loss: 4554.6548 - val_loss: 3881.2632\n",
            "Epoch 10/50\n",
            "165/165 - 1s - 4ms/step - loss: 3257.4114 - val_loss: 2922.8630\n",
            "Epoch 11/50\n",
            "165/165 - 0s - 2ms/step - loss: 2506.7271 - val_loss: 2326.7126\n",
            "Epoch 12/50\n",
            "165/165 - 0s - 2ms/step - loss: 2010.3254 - val_loss: 1894.4890\n",
            "Epoch 13/50\n",
            "165/165 - 1s - 4ms/step - loss: 1630.3768 - val_loss: 1543.5057\n",
            "Epoch 14/50\n",
            "165/165 - 0s - 2ms/step - loss: 1320.4772 - val_loss: 1256.0516\n",
            "Epoch 15/50\n",
            "165/165 - 0s - 2ms/step - loss: 1064.0082 - val_loss: 1015.3801\n",
            "Epoch 16/50\n",
            "165/165 - 1s - 4ms/step - loss: 853.1558 - val_loss: 818.6358\n",
            "Epoch 17/50\n",
            "165/165 - 1s - 4ms/step - loss: 681.2991 - val_loss: 661.7748\n",
            "Epoch 18/50\n",
            "165/165 - 0s - 2ms/step - loss: 544.1818 - val_loss: 531.6263\n",
            "Epoch 19/50\n",
            "165/165 - 0s - 2ms/step - loss: 436.1003 - val_loss: 430.5223\n",
            "Epoch 20/50\n",
            "165/165 - 0s - 2ms/step - loss: 351.9071 - val_loss: 351.5122\n",
            "Epoch 21/50\n",
            "165/165 - 1s - 4ms/step - loss: 285.0504 - val_loss: 288.0721\n",
            "Epoch 22/50\n",
            "165/165 - 1s - 4ms/step - loss: 232.0677 - val_loss: 238.2347\n",
            "Epoch 23/50\n",
            "165/165 - 1s - 3ms/step - loss: 189.9014 - val_loss: 196.5550\n",
            "Epoch 24/50\n",
            "165/165 - 1s - 3ms/step - loss: 155.7346 - val_loss: 162.6075\n",
            "Epoch 25/50\n",
            "165/165 - 1s - 3ms/step - loss: 128.1787 - val_loss: 134.3472\n",
            "Epoch 26/50\n",
            "165/165 - 0s - 3ms/step - loss: 105.4320 - val_loss: 112.6074\n",
            "Epoch 27/50\n",
            "165/165 - 0s - 3ms/step - loss: 86.9777 - val_loss: 92.4065\n",
            "Epoch 28/50\n",
            "165/165 - 1s - 3ms/step - loss: 71.7730 - val_loss: 76.7625\n",
            "Epoch 29/50\n",
            "165/165 - 0s - 3ms/step - loss: 59.1450 - val_loss: 64.5845\n",
            "Epoch 30/50\n",
            "165/165 - 1s - 3ms/step - loss: 49.0078 - val_loss: 52.8210\n",
            "Epoch 31/50\n",
            "165/165 - 0s - 2ms/step - loss: 40.4185 - val_loss: 44.4941\n",
            "Epoch 32/50\n",
            "165/165 - 0s - 2ms/step - loss: 33.3390 - val_loss: 36.6974\n",
            "Epoch 33/50\n",
            "165/165 - 0s - 2ms/step - loss: 27.3257 - val_loss: 30.7010\n",
            "Epoch 34/50\n",
            "165/165 - 0s - 2ms/step - loss: 22.4030 - val_loss: 25.4534\n",
            "Epoch 35/50\n",
            "165/165 - 0s - 2ms/step - loss: 18.3220 - val_loss: 21.3311\n",
            "Epoch 36/50\n",
            "165/165 - 0s - 2ms/step - loss: 14.9956 - val_loss: 17.8331\n",
            "Epoch 37/50\n",
            "165/165 - 0s - 2ms/step - loss: 12.2602 - val_loss: 15.0238\n",
            "Epoch 38/50\n",
            "165/165 - 0s - 2ms/step - loss: 10.0122 - val_loss: 12.8855\n",
            "Epoch 39/50\n",
            "165/165 - 0s - 2ms/step - loss: 8.2190 - val_loss: 10.8594\n",
            "Epoch 40/50\n",
            "165/165 - 0s - 2ms/step - loss: 6.7042 - val_loss: 9.2746\n",
            "Epoch 41/50\n",
            "165/165 - 0s - 2ms/step - loss: 5.4917 - val_loss: 8.0723\n",
            "Epoch 42/50\n",
            "165/165 - 1s - 4ms/step - loss: 4.5293 - val_loss: 7.0330\n",
            "Epoch 43/50\n",
            "165/165 - 0s - 2ms/step - loss: 3.7348 - val_loss: 6.2878\n",
            "Epoch 44/50\n",
            "165/165 - 0s - 2ms/step - loss: 3.0475 - val_loss: 5.5720\n",
            "Epoch 45/50\n",
            "165/165 - 1s - 4ms/step - loss: 2.5029 - val_loss: 5.0119\n",
            "Epoch 46/50\n",
            "165/165 - 0s - 2ms/step - loss: 2.0555 - val_loss: 4.4900\n",
            "Epoch 47/50\n",
            "165/165 - 1s - 3ms/step - loss: 1.6902 - val_loss: 4.0670\n",
            "Epoch 48/50\n",
            "165/165 - 0s - 2ms/step - loss: 1.3918 - val_loss: 3.7225\n",
            "Epoch 49/50\n",
            "165/165 - 0s - 2ms/step - loss: 1.1568 - val_loss: 3.4298\n",
            "Epoch 50/50\n",
            "165/165 - 0s - 2ms/step - loss: 0.9679 - val_loss: 3.1823\n"
          ]
        },
        {
          "output_type": "execute_result",
          "data": {
            "text/plain": [
              "<keras.src.callbacks.history.History at 0x7f889154a470>"
            ]
          },
          "metadata": {},
          "execution_count": 8
        }
      ]
    },
    {
      "cell_type": "code",
      "source": [
        "# Make predictions on the test set\n",
        "y_pred = model.predict(X_test_scaled)\n",
        "\n",
        "# Evaluate the model\n",
        "mse = mean_squared_error(y_test, y_pred)\n",
        "print(f'Mean Squared Error on Test Set: {mse}')\n",
        "\n",
        "import matplotlib.pyplot as plt\n",
        "# plot the results\n",
        "plt.scatter(y_test, y_pred)\n",
        "plt.plot([y_test.min(), y_test.max()], [y_test.min(), y_test.max()], 'k--', lw=2)\n",
        "plt.xlabel('Actual Temperature')\n",
        "plt.ylabel('Predicted Temperature')\n",
        "plt.title('Actual vs Predicted Temperature')\n",
        "plt.show()"
      ],
      "metadata": {
        "colab": {
          "base_uri": "https://localhost:8080/",
          "height": 507
        },
        "collapsed": true,
        "id": "M4duO376urAb",
        "outputId": "e01f97ea-3c62-47b9-bbcc-5288c8926b5f"
      },
      "execution_count": 9,
      "outputs": [
        {
          "output_type": "stream",
          "name": "stdout",
          "text": [
            "\u001b[1m23/23\u001b[0m \u001b[32m━━━━━━━━━━━━━━━━━━━━\u001b[0m\u001b[37m\u001b[0m \u001b[1m0s\u001b[0m 3ms/step\n",
            "Mean Squared Error on Test Set: 0.8902543575521886\n"
          ]
        },
        {
          "output_type": "display_data",
          "data": {
            "text/plain": [
              "<Figure size 640x480 with 1 Axes>"
            ],
            "image/png": "[encoded data removed]"
          },
          "metadata": {}
        }
      ]
    },
    {
      "cell_type": "code",
      "source": [
        "# Save the model\n",
        "model.save('temperature_model.h5')\n",
        "model.save('temperature_model.keras')\n"
      ],
      "metadata": {
        "colab": {
          "base_uri": "https://localhost:8080/"
        },
        "id": "6JmA4GoJRZ-0",
        "outputId": "b2ae0052-30aa-48a0-ed93-b59a34cec176"
      },
      "execution_count": 11,
      "outputs": [
        {
          "output_type": "stream",
          "name": "stderr",
          "text": [
            "WARNING:absl:You are saving your model as an HDF5 file via `model.save()` or `keras.saving.save_model(model)`. This file format is considered legacy. We recommend using instead the native Keras format, e.g. `model.save('my_model.keras')` or `keras.saving.save_model(model, 'my_model.keras')`. \n"
          ]
        }
      ]
    }
  ]
}